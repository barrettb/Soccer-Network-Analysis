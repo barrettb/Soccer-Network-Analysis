{
 "cells": [
  {
   "cell_type": "code",
   "execution_count": null,
   "metadata": {},
   "outputs": [],
   "source": [
    "import numpy as np\n",
    "import pandas as pd\n",
    "from statsbombpy import sb\n",
    "pd.set_option('display.max_rows', None)\n",
    "from mplsoccer import Pitch, Sbopen\n",
    "from mplsoccer import VerticalPitch,Pitch\n",
    "import networkx as nx\n",
    "import matplotlib.pyplot as plt\n",
    "from mpl_toolkits.mplot3d import Axes3D\n",
    "import networkx as nx\n",
    "\n"
   ]
  },
  {
   "cell_type": "code",
   "execution_count": 26,
   "metadata": {},
   "outputs": [],
   "source": [
    "data = pd.read_pickle(r\"C:\\Users\\Barre\\Downloads\\men.pkl\")\n"
   ]
  },
  {
   "cell_type": "code",
   "execution_count": null,
   "metadata": {},
   "outputs": [],
   "source": [
    "from ipywidgets import Checkbox, Dropdown, Accordion, VBox\n",
    "import sklearn.metrics as metrics\n",
    "from sklearn.calibration import calibration_curve\n",
    "from spektral.data import Dataset, Graph, DisjointLoader\n",
    "from spektral.layers import CrystalConv, GlobalAvgPool\n",
    "from tensorflow.keras.layers import Dense, Input, Dropout\n",
    "from tensorflow.keras.losses import BinaryCrossentropy\n",
    "from tensorflow.keras.models import Model\n",
    "from tensorflow.keras.optimizers import Adam\n",
    "from tensorflow.keras.metrics import AUC\n",
    "\n",
    "import copy\n",
    "import logging\n",
    "import matplotlib.pyplot as plt\n",
    "import numpy as np\n",
    "import pickle\n",
    "import pandas as pd\n",
    "import random\n",
    "import sys\n",
    "import tensorflow as tf\n",
    "import requests\n",
    "import progressbar\n",
    "from os.path import isfile\n",
    "import time\n",
    "\n",
    "# Setting up the logger\n",
    "logger = logging.getLogger(__name__)\n",
    "logger.setLevel(logging.DEBUG)\n",
    "stdout_handler = logging.StreamHandler(sys.stdout)\n",
    "logger.addHandler(stdout_handler)"
   ]
  },
  {
   "cell_type": "code",
   "execution_count": 27,
   "metadata": {},
   "outputs": [],
   "source": [
    "og_data = data"
   ]
  },
  {
   "cell_type": "code",
   "execution_count": 29,
   "metadata": {},
   "outputs": [
    {
     "name": "stdout",
     "output_type": "stream",
     "text": [
      "Choose Adjacency Matrix:\n"
     ]
    },
    {
     "data": {
      "application/vnd.jupyter.widget-view+json": {
       "model_id": "1f336b3d76614318a3f8d19ea7fb40ae",
       "version_major": 2,
       "version_minor": 0
      },
      "text/plain": [
       "Dropdown(options=('normal', 'delaunay', 'dense', 'dense_ap', 'dense_dp'), value='normal')"
      ]
     },
     "metadata": {},
     "output_type": "display_data"
    }
   ],
   "source": [
    "print(\"Choose Adjacency Matrix:\")\n",
    "adj_matrix = Dropdown(\n",
    "    options=['normal', 'delaunay', 'dense', 'dense_ap', 'dense_dp'],\n",
    "    value='normal',\n",
    "    disabled=False,\n",
    ")\n",
    "display(adj_matrix)"
   ]
  },
  {
   "cell_type": "code",
   "execution_count": 30,
   "metadata": {},
   "outputs": [],
   "source": [
    "player_dist = Checkbox(\n",
    "    value=True,\n",
    "    description='Player Distance',\n",
    "    disabled=False\n",
    ")\n",
    "\n",
    "speed_diff_matrix = Checkbox(\n",
    "    value=True,\n",
    "    description='Speed Difference',\n",
    "    disabled=False\n",
    ")\n",
    "\n",
    "pos_sin_angle = Checkbox(\n",
    "    value=True,\n",
    "    description='Positional Sine angle',\n",
    "    disabled=False\n",
    ")\n",
    "\n",
    "pos_cos_angle = Checkbox(\n",
    "    value=True,\n",
    "    description='Positional Cosine angle',\n",
    "    disabled=False\n",
    ")\n",
    "\n",
    "vel_sin_angle = Checkbox(\n",
    "    value=True,\n",
    "    description='Velocity Sine angle',\n",
    "    disabled=False\n",
    ")\n",
    "\n",
    "vel_cos_angle = Checkbox(\n",
    "    value=True,\n",
    "    description='Velocity Cosine angle',\n",
    "    disabled=False\n",
    ")\n",
    "\n",
    "# Add the user selection of edge features in edge_f_box list.\n",
    "edge_f_box = VBox([player_dist, speed_diff_matrix, pos_sin_angle, pos_cos_angle, vel_sin_angle, vel_cos_angle])"
   ]
  },
  {
   "cell_type": "code",
   "execution_count": 31,
   "metadata": {},
   "outputs": [],
   "source": [
    "x_coord = Checkbox(\n",
    "    value=True,\n",
    "    description='x coordinate',\n",
    "    disabled=False\n",
    ")\n",
    "\n",
    "y_coord = Checkbox(\n",
    "    value=True,\n",
    "    description='y coordinate',\n",
    "    disabled=False\n",
    ")\n",
    "\n",
    "vx = Checkbox(\n",
    "    value=True,\n",
    "    description='vX',\n",
    "    disabled=False\n",
    ")\n",
    "\n",
    "\n",
    "vy = Checkbox(\n",
    "    value=True,\n",
    "    description='vY',\n",
    "    disabled=False\n",
    ")\n",
    "\n",
    "\n",
    "v = Checkbox(\n",
    "    value=True,\n",
    "    description='Velocity',\n",
    "    disabled=False\n",
    ")\n",
    "\n",
    "\n",
    "velocity_angle = Checkbox(\n",
    "    value=True,\n",
    "    description='Velocity Angle',\n",
    "    disabled=False\n",
    ")\n",
    "\n",
    "dist_goal = Checkbox(\n",
    "    value=True,\n",
    "    description='Distance to Goal',\n",
    "    disabled=False\n",
    ")\n",
    "\n",
    "goal_angle = Checkbox(\n",
    "    value=True,\n",
    "    description='Angle with Goal',\n",
    "    disabled=False\n",
    ")\n",
    "\n",
    "\n",
    "dist_ball = Checkbox(\n",
    "    value=True,\n",
    "    description='Distance to Ball',\n",
    "    disabled=False\n",
    ")\n",
    "\n",
    "ball_angle = Checkbox(\n",
    "    value=True,\n",
    "    description='Angle with Ball',\n",
    "    disabled=False\n",
    ")\n",
    "\n",
    "\n",
    "is_attacking = Checkbox(\n",
    "    value=True,\n",
    "    description='Attacking Team Flag',\n",
    "    disabled=False\n",
    ")\n",
    "\n",
    "potential_receiver = Checkbox(\n",
    "    value=True,\n",
    "    description='Potential Receiver',\n",
    "    disabled=False\n",
    ")\n",
    "\n",
    "# Add the user selection of node features in node_f_box list.\n",
    "node_f_box = VBox([x_coord, y_coord, vx, vy, v, velocity_angle, dist_goal, goal_angle, dist_ball, ball_angle, \n",
    "                is_attacking, potential_receiver])"
   ]
  },
  {
   "cell_type": "code",
   "execution_count": 32,
   "metadata": {},
   "outputs": [
    {
     "data": {
      "application/vnd.jupyter.widget-view+json": {
       "model_id": "eaf6791a150b4ff0a0b3ca6a931a4068",
       "version_major": 2,
       "version_minor": 0
      },
      "text/plain": [
       "Accordion(children=(VBox(children=(Checkbox(value=True, description='Player Distance'), Checkbox(value=True, d…"
      ]
     },
     "metadata": {},
     "output_type": "display_data"
    }
   ],
   "source": [
    "accordion = Accordion(children=[edge_f_box, node_f_box])\n",
    "accordion.set_title(0, 'Edge Features')\n",
    "accordion.set_title(1, 'Node Features')\n",
    "accordion"
   ]
  },
  {
   "cell_type": "code",
   "execution_count": 34,
   "metadata": {},
   "outputs": [],
   "source": [
    "class CounterDataset(Dataset):\n",
    "    \"\"\"\n",
    "    Convert raw Graph data to a CounterDataset with Dataset class from the spektral library to include node features, \n",
    "    edge features and the adjacency matrix.\n",
    "    \"\"\"\n",
    "    def __init__(self, **kwargs):\n",
    "        '''\n",
    "        Constructor to load parameters.\n",
    "        '''\n",
    "        self.data = kwargs['data']\n",
    "        self.matrix_type = kwargs['matrix_type']\n",
    "        super().__init__(**kwargs)\n",
    "        \n",
    "    def read(self):\n",
    "        '''\n",
    "        Overriding the read function - to return a list of Graph objects\n",
    "        '''\n",
    "        logger.info(\"Loading Pass Dataset.\")\n",
    "        \n",
    "        data = self.data\n",
    "        # Choosing the data with the required matrix type.\n",
    "        data_mat = data[self.matrix_type]\n",
    "        \n",
    "        # Print Graph information\n",
    "        logger.info(\n",
    "            f\"\"\"node_features (x): {data_mat['x'][0].shape}\n",
    "             \\n adj_matrix (a): {data_mat['a'][0].shape}\n",
    "             \\n edge_features (e): {data_mat['e'][0].shape}\n",
    "             \"\"\"\n",
    "        )\n",
    "        \n",
    "        # Return a list of Graph objects\n",
    "        return [\n",
    "            Graph(x=x, a=a, e=e, y=y) for x, a, e, y in zip(\n",
    "                data_mat['x'], data_mat['a'], data_mat['e'], data['binary']\n",
    "            )\n",
    "        ]"
   ]
  },
  {
   "cell_type": "code",
   "execution_count": 40,
   "metadata": {},
   "outputs": [
    {
     "name": "stdout",
     "output_type": "stream",
     "text": [
      "Loading Pass Dataset.\n",
      "node_features (x): (23, 12)\n",
      "             \n",
      " adj_matrix (a): (23, 23)\n",
      "             \n",
      " edge_features (e): (287, 6)\n",
      "             \n"
     ]
    },
    {
     "ename": "NameError",
     "evalue": "name 'graph' is not defined",
     "output_type": "error",
     "traceback": [
      "\u001b[1;31m---------------------------------------------------------------------------\u001b[0m",
      "\u001b[1;31mNameError\u001b[0m                                 Traceback (most recent call last)",
      "\u001b[1;32m~\\AppData\\Local\\Temp/ipykernel_4584/3967117135.py\u001b[0m in \u001b[0;36m<module>\u001b[1;34m\u001b[0m\n\u001b[0;32m      1\u001b[0m \u001b[0mdataset\u001b[0m \u001b[1;33m=\u001b[0m \u001b[0mCounterDataset\u001b[0m\u001b[1;33m(\u001b[0m\u001b[0mdata\u001b[0m \u001b[1;33m=\u001b[0m \u001b[0mdata\u001b[0m\u001b[1;33m,\u001b[0m \u001b[0mmatrix_type\u001b[0m \u001b[1;33m=\u001b[0m \u001b[0madj_matrix\u001b[0m\u001b[1;33m.\u001b[0m\u001b[0mvalue\u001b[0m\u001b[1;33m)\u001b[0m\u001b[1;33m\u001b[0m\u001b[1;33m\u001b[0m\u001b[0m\n\u001b[1;32m----> 2\u001b[1;33m \u001b[0mgraph\u001b[0m\u001b[1;33m.\u001b[0m\u001b[0mn_nodes\u001b[0m\u001b[1;33m\u001b[0m\u001b[1;33m\u001b[0m\u001b[0m\n\u001b[0m",
      "\u001b[1;31mNameError\u001b[0m: name 'graph' is not defined"
     ]
    }
   ],
   "source": [
    "dataset = CounterDataset(data = data, matrix_type = adj_matrix.value)\n"
   ]
  },
  {
   "cell_type": "code",
   "execution_count": 75,
   "metadata": {},
   "outputs": [],
   "source": [
    "G= dataset[0]\n",
    "adj_matrix = G.a"
   ]
  },
  {
   "cell_type": "code",
   "execution_count": 50,
   "metadata": {},
   "outputs": [],
   "source": [
    "import spektral as sp\n"
   ]
  },
  {
   "cell_type": "code",
   "execution_count": 72,
   "metadata": {},
   "outputs": [],
   "source": [
    "df = pd.read_pickle(r\"C:\\Users\\Barre\\Downloads\\men.pkl\")\n"
   ]
  },
  {
   "cell_type": "code",
   "execution_count": 77,
   "metadata": {},
   "outputs": [
    {
     "data": {
      "text/plain": [
       "array([ 0.49313725,  0.36117647, -0.9228774 ,  0.38509389,  0.358     ,\n",
       "        0.93708453,  0.48880226,  0.02874375,  0.01688001,  0.15897639,\n",
       "        0.        ,  0.1       ])"
      ]
     },
     "execution_count": 77,
     "metadata": {},
     "output_type": "execute_result"
    }
   ],
   "source": [
    "G.x[0]"
   ]
  }
 ],
 "metadata": {
  "kernelspec": {
   "display_name": "Python 3",
   "language": "python",
   "name": "python3"
  },
  "language_info": {
   "codemirror_mode": {
    "name": "ipython",
    "version": 3
   },
   "file_extension": ".py",
   "mimetype": "text/x-python",
   "name": "python",
   "nbconvert_exporter": "python",
   "pygments_lexer": "ipython3",
   "version": "3.9.6"
  }
 },
 "nbformat": 4,
 "nbformat_minor": 2
}
